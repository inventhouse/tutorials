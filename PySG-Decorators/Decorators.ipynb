{
 "cells": [
  {
   "cell_type": "markdown",
   "metadata": {},
   "source": [
    "# Decorators, how do they work??"
   ]
  },
  {
   "cell_type": "markdown",
   "metadata": {
    "jupyter": {
     "source_hidden": true
    }
   },
   "source": [
    "Understanding how decorators work _really_ helps me understand how, why, and when to use them, and enables me to write my own"
   ]
  },
  {
   "cell_type": "markdown",
   "metadata": {
    "jupyter": {
     "source_hidden": true
    }
   },
   "source": [
    "#### Spoiler: They're **not** magic"
   ]
  },
  {
   "cell_type": "markdown",
   "metadata": {
    "jupyter": {
     "source_hidden": true
    }
   },
   "source": [
    "#### Well, maybe just a little bit..."
   ]
  },
  {
   "cell_type": "markdown",
   "metadata": {
    "jupyter": {
     "source_hidden": true
    }
   },
   "source": [
    "#### Nope, just some syntactic sugar, not really magic."
   ]
  },
  {
   "cell_type": "markdown",
   "metadata": {
    "jupyter": {
     "source_hidden": true
    }
   },
   "source": [
    "**Syntactic sugar**: special language features to make an already available pattern easier to write and/or clearer to read for humans)"
   ]
  },
  {
   "cell_type": "markdown",
   "metadata": {
    "jupyter": {
     "source_hidden": true
    }
   },
   "source": [
    "#### They are _**VERY**_ abstract, though..."
   ]
  },
  {
   "cell_type": "markdown",
   "metadata": {},
   "source": [
    "## Callables \"lightning talk\" refresher"
   ]
  },
  {
   "cell_type": "markdown",
   "metadata": {},
   "source": [
    "### What are \"callables\"?  Why make up words?"
   ]
  },
  {
   "cell_type": "markdown",
   "metadata": {
    "jupyter": {
     "source_hidden": true
    }
   },
   "source": [
    "- \"A callable is anything that can be called\" -- [top StackOverflow answer][1]; true, but not very helpful\n",
    "- Why \"callable\"?  Too many distinct kinds; the term \"function\" has baggage\n",
    "[1]: https://stackoverflow.com/questions/111234/what-is-a-callable-in-python#111255"
   ]
  },
  {
   "cell_type": "markdown",
   "metadata": {},
   "source": [
    "### \"Snippets of code\""
   ]
  },
  {
   "cell_type": "markdown",
   "metadata": {
    "jupyter": {
     "source_hidden": true
    }
   },
   "source": [
    "- Functions, lambdas\n",
    "- Easy to take for granted, but very powerful:\n",
    "    - Can operate on data - take parameters, return results\n",
    "    - Callables can call other callables"
   ]
  },
  {
   "cell_type": "markdown",
   "metadata": {},
   "source": [
    "### \"Code + data\""
   ]
  },
  {
   "cell_type": "markdown",
   "metadata": {
    "jupyter": {
     "source_hidden": true
    }
   },
   "source": [
    "- Classes (`__init__`), callable objects, bound methods, ..."
   ]
  },
  {
   "cell_type": "markdown",
   "metadata": {},
   "source": [
    "### \"Code _<u>as</u>_ data\""
   ]
  },
  {
   "cell_type": "markdown",
   "metadata": {
    "jupyter": {
     "source_hidden": true
    }
   },
   "source": [
    "- callbacks, helpers (e.g. `sort`'s `key=`)\n",
    "- closures (aka \"inner functions\")"
   ]
  },
  {
   "cell_type": "markdown",
   "metadata": {},
   "source": [
    "### Callables can take callables..."
   ]
  },
  {
   "cell_type": "code",
   "execution_count": 297,
   "metadata": {
    "collapsed": true,
    "jupyter": {
     "outputs_hidden": true
    }
   },
   "outputs": [
    {
     "name": "stdout",
     "output_type": "stream",
     "text": [
      "Hello world\n"
     ]
    }
   ],
   "source": [
    "def hello(printer):\n",
    "    printer(\"Hello world\")\n",
    "\n",
    "hello(print)"
   ]
  },
  {
   "cell_type": "code",
   "execution_count": 298,
   "metadata": {
    "collapsed": true,
    "jupyter": {
     "outputs_hidden": true
    }
   },
   "outputs": [
    {
     "name": "stdout",
     "output_type": "stream",
     "text": [
      "Hello world!\n"
     ]
    }
   ],
   "source": [
    "def exclamation(s):\n",
    "    print(f\"{s}!\")\n",
    "\n",
    "hello(exclamation)"
   ]
  },
  {
   "cell_type": "markdown",
   "metadata": {},
   "source": [
    "## ...and return callables!"
   ]
  },
  {
   "cell_type": "code",
   "execution_count": 253,
   "metadata": {
    "collapsed": true,
    "jupyter": {
     "outputs_hidden": true
    }
   },
   "outputs": [
    {
     "name": "stdout",
     "output_type": "stream",
     "text": [
      "Hello Python Study Group\n",
      "Hello Python Study Group!\n"
     ]
    }
   ],
   "source": [
    "def greeter(printer):\n",
    "    def greet(name):\n",
    "        # Inner function has - and KEEPS - the context in \n",
    "        # which is was created (\"closes over\", aka \"closure\")\n",
    "        printer(f\"Hello {name}\")\n",
    "    return greet\n",
    "\n",
    "hi = greeter(print)\n",
    "hi_bang = greeter(exclamation)\n",
    "\n",
    "hi(\"Python Study Group\")\n",
    "hi_bang(\"Python Study Group\")"
   ]
  },
  {
   "cell_type": "markdown",
   "metadata": {},
   "source": [
    "## Let's try this again"
   ]
  },
  {
   "cell_type": "code",
   "execution_count": 309,
   "metadata": {
    "collapsed": true,
    "jupyter": {
     "outputs_hidden": true
    }
   },
   "outputs": [
    {
     "data": {
      "text/plain": [
       "'Okay'"
      ]
     },
     "execution_count": 309,
     "metadata": {},
     "output_type": "execute_result"
    }
   ],
   "source": [
    "from random import choice, random\n",
    "def flaky():\n",
    "    return choice([\"Okay\", None])\n",
    "    \n",
    "flaky()"
   ]
  },
  {
   "cell_type": "code",
   "execution_count": 261,
   "metadata": {
    "collapsed": true,
    "jupyter": {
     "outputs_hidden": true
    }
   },
   "outputs": [
    {
     "name": "stdout",
     "output_type": "stream",
     "text": [
      "fail 0\n",
      "fail 1\n"
     ]
    },
    {
     "data": {
      "text/plain": [
       "'Okay'"
      ]
     },
     "execution_count": 261,
     "metadata": {},
     "output_type": "execute_result"
    }
   ],
   "source": [
    "def retry(f):\n",
    "    tries = 5\n",
    "    for t in range(tries):\n",
    "        result = f()\n",
    "        if result:\n",
    "            return result\n",
    "        print(f\"fail {t}\")\n",
    "    return result\n",
    "\n",
    "retry(flaky)"
   ]
  },
  {
   "cell_type": "code",
   "execution_count": 328,
   "metadata": {
    "collapsed": true,
    "jupyter": {
     "outputs_hidden": true
    }
   },
   "outputs": [
    {
     "data": {
      "text/plain": [
       "'Okay'"
      ]
     },
     "execution_count": 328,
     "metadata": {},
     "output_type": "execute_result"
    }
   ],
   "source": [
    "def retried(f):\n",
    "    tries = 5\n",
    "    def retry_wrapper():\n",
    "        for t in range(tries):\n",
    "            result = f()\n",
    "            if result:\n",
    "                return result\n",
    "            print(f\"fail {t}\")\n",
    "        return result\n",
    "    return retry_wrapper\n",
    "\n",
    "flaky = retried(flaky)\n",
    "flaky()"
   ]
  },
  {
   "cell_type": "markdown",
   "metadata": {},
   "source": [
    "## Add a little syntactic sugar..."
   ]
  },
  {
   "cell_type": "code",
   "execution_count": 167,
   "metadata": {
    "collapsed": true,
    "jupyter": {
     "outputs_hidden": true
    }
   },
   "outputs": [
    {
     "name": "stdout",
     "output_type": "stream",
     "text": [
      "fail 0\n",
      "fail 1\n",
      "fail 2\n",
      "fail 3\n"
     ]
    },
    {
     "data": {
      "text/plain": [
       "'Okay'"
      ]
     },
     "execution_count": 167,
     "metadata": {},
     "output_type": "execute_result"
    }
   ],
   "source": [
    "@retried\n",
    "def flaky():\n",
    "    return choice([\"Okay\", None])\n",
    "\n",
    "flaky()"
   ]
  },
  {
   "cell_type": "markdown",
   "metadata": {},
   "source": [
    "## How does that work?\n",
    "\n",
    "**retried**: expression that _<u>takes</u>_ a callable and _<u>returns</u>_ a callable that _<u>replaces<u>_ the following one"
   ]
  },
  {
   "cell_type": "code",
   "execution_count": 179,
   "metadata": {
    "collapsed": true,
    "jupyter": {
     "outputs_hidden": true,
     "source_hidden": true
    }
   },
   "outputs": [
    {
     "data": {
      "text/plain": [
       "<function __main__.retried(f)>"
      ]
     },
     "execution_count": 179,
     "metadata": {},
     "output_type": "execute_result"
    }
   ],
   "source": [
    "retried"
   ]
  },
  {
   "cell_type": "markdown",
   "metadata": {},
   "source": [
    "**@**: the sugar, automatically calls the decorator _<u>at declaration time</u>_ with the following one and does the replacement, basically like we did above."
   ]
  },
  {
   "cell_type": "markdown",
   "metadata": {},
   "source": [
    "## Getting fancy\n",
    "\n",
    "Let's make a version with configurable tries, say, `retry_n`..."
   ]
  },
  {
   "cell_type": "markdown",
   "metadata": {},
   "source": [
    "...but wait, if the `@` automatically calls it with the following thing - _<u>just</u>_ the following thing - where would arguments for _<u>it</u>_ go?"
   ]
  },
  {
   "cell_type": "markdown",
   "metadata": {},
   "source": [
    "## Inception\n",
    "\n",
    "### Callables can return _<u>generators!</u>_"
   ]
  },
  {
   "cell_type": "code",
   "execution_count": 299,
   "metadata": {
    "collapsed": true,
    "jupyter": {
     "outputs_hidden": true
    }
   },
   "outputs": [],
   "source": [
    "def retry_n(tries):\n",
    "    def retried(f):\n",
    "        def retry_wrapper():\n",
    "            for t in range(tries):\n",
    "                result = f()\n",
    "                if result:\n",
    "                    return result\n",
    "                print(f\"fail {t}\")\n",
    "            return result\n",
    "        return retry_wrapper\n",
    "    return retried\n",
    "\n",
    "@retry_n(2)\n",
    "def best_effort():\n",
    "    return choice([\"Okay\", None])"
   ]
  },
  {
   "cell_type": "code",
   "execution_count": 308,
   "metadata": {
    "collapsed": true,
    "jupyter": {
     "outputs_hidden": true
    }
   },
   "outputs": [
    {
     "name": "stdout",
     "output_type": "stream",
     "text": [
      "fail 0\n",
      "fail 1\n"
     ]
    }
   ],
   "source": [
    "best_effort()"
   ]
  },
  {
   "cell_type": "markdown",
   "metadata": {},
   "source": [
    "### What's going on here?\n",
    "```python\n",
    "def best_effort():\n",
    "    return choice([\"Okay\", None])\n",
    "best_effort = retry_n(2)(best_effort)\n",
    "```"
   ]
  },
  {
   "cell_type": "markdown",
   "metadata": {},
   "source": [
    "## Multiple decorators"
   ]
  },
  {
   "cell_type": "code",
   "execution_count": 283,
   "metadata": {
    "collapsed": true,
    "jupyter": {
     "outputs_hidden": true
    }
   },
   "outputs": [],
   "source": [
    "def bold(f):\n",
    "    def stars():\n",
    "        return(f\"*{f()}*\")\n",
    "    return stars\n",
    "\n",
    "def italic(f):\n",
    "    def unders():\n",
    "        return(f\"_{f()}_\")\n",
    "    return unders"
   ]
  },
  {
   "cell_type": "code",
   "execution_count": 289,
   "metadata": {
    "collapsed": true,
    "jupyter": {
     "outputs_hidden": true
    }
   },
   "outputs": [
    {
     "data": {
      "text/plain": [
       "'*_Hello_*'"
      ]
     },
     "execution_count": 289,
     "metadata": {},
     "output_type": "execute_result"
    }
   ],
   "source": [
    "@bold\n",
    "@italic\n",
    "def hi():\n",
    "    return \"Hello\"\n",
    "\n",
    "hi()\n",
    "# Will it be '_*Hello*_' or '*_Hello_*'?"
   ]
  },
  {
   "cell_type": "markdown",
   "metadata": {
    "jupyter": {
     "source_hidden": true
    }
   },
   "source": [
    "```python\n",
    "hi = bold(italics(hi))\n",
    "```"
   ]
  },
  {
   "cell_type": "code",
   "execution_count": 291,
   "metadata": {
    "collapsed": true,
    "jupyter": {
     "outputs_hidden": true
    }
   },
   "outputs": [
    {
     "data": {
      "text/plain": [
       "'_*Hello*_'"
      ]
     },
     "execution_count": 291,
     "metadata": {},
     "output_type": "execute_result"
    }
   ],
   "source": [
    "@italics\n",
    "@bold\n",
    "def hi():\n",
    "    return \"Hello\"\n",
    "\n",
    "hi()"
   ]
  },
  {
   "cell_type": "markdown",
   "metadata": {
    "jupyter": {
     "source_hidden": true
    }
   },
   "source": [
    "```python\n",
    "hi = italics(bold(hi))\n",
    "```"
   ]
  },
  {
   "cell_type": "markdown",
   "metadata": {},
   "source": [
    "## Professional touches"
   ]
  },
  {
   "cell_type": "markdown",
   "metadata": {},
   "source": [
    " "
   ]
  },
  {
   "cell_type": "code",
   "execution_count": 332,
   "metadata": {
    "collapsed": true,
    "jupyter": {
     "outputs_hidden": true
    }
   },
   "outputs": [
    {
     "ename": "TypeError",
     "evalue": "retry_wrapper() takes 0 positional arguments but 1 was given",
     "output_type": "error",
     "traceback": [
      "\u001b[0;31m---------------------------------------------------------------------------\u001b[0m",
      "\u001b[0;31mTypeError\u001b[0m                                 Traceback (most recent call last)",
      "\u001b[0;32m<ipython-input-332-a714f40c41cd>\u001b[0m in \u001b[0;36m<module>\u001b[0;34m\u001b[0m\n\u001b[1;32m      3\u001b[0m     \u001b[0;32mreturn\u001b[0m \u001b[0;34mf\"Hello {name}\"\u001b[0m \u001b[0;32mif\u001b[0m \u001b[0mrandom\u001b[0m\u001b[0;34m(\u001b[0m\u001b[0;34m)\u001b[0m \u001b[0;34m<=\u001b[0m \u001b[0mreliablility\u001b[0m \u001b[0;32melse\u001b[0m \u001b[0;32mNone\u001b[0m\u001b[0;34m\u001b[0m\u001b[0;34m\u001b[0m\u001b[0m\n\u001b[1;32m      4\u001b[0m \u001b[0;34m\u001b[0m\u001b[0m\n\u001b[0;32m----> 5\u001b[0;31m \u001b[0mflaky_greet\u001b[0m\u001b[0;34m(\u001b[0m\u001b[0;34m\"Ben\"\u001b[0m\u001b[0;34m)\u001b[0m\u001b[0;34m\u001b[0m\u001b[0;34m\u001b[0m\u001b[0m\n\u001b[0m",
      "\u001b[0;31mTypeError\u001b[0m: retry_wrapper() takes 0 positional arguments but 1 was given"
     ]
    }
   ],
   "source": [
    "@retried\n",
    "def flaky_greet(name, reliablility=0.5):\n",
    "    return f\"Hello {name}\" if random() <= reliablility else None\n",
    "\n",
    "flaky_greet(\"Ben\")"
   ]
  },
  {
   "cell_type": "code",
   "execution_count": 316,
   "metadata": {
    "collapsed": true,
    "jupyter": {
     "outputs_hidden": true
    }
   },
   "outputs": [],
   "source": [
    "import functools\n",
    "def retried(f):\n",
    "    tries = 5\n",
    "    @functools.wraps(f)\n",
    "    def retry_wrapper(*args, **kwargs):\n",
    "        for t in range(tries):\n",
    "            result = f(*args, **kwargs)\n",
    "            if result:\n",
    "                return result\n",
    "            print(f\"fail {t}\")\n",
    "        return result\n",
    "    return retry_wrapper"
   ]
  },
  {
   "cell_type": "code",
   "execution_count": 324,
   "metadata": {
    "collapsed": true,
    "jupyter": {
     "outputs_hidden": true
    }
   },
   "outputs": [],
   "source": [
    "@retried\n",
    "def flaky_greet(name, reliablility=0.5):\n",
    "    return f\"Hello {name}\" if random() <= reliablility else None"
   ]
  },
  {
   "cell_type": "code",
   "execution_count": 325,
   "metadata": {
    "collapsed": true,
    "jupyter": {
     "outputs_hidden": true
    }
   },
   "outputs": [
    {
     "ename": "TypeError",
     "evalue": "flaky_greet() missing 1 required positional argument: 'name'",
     "output_type": "error",
     "traceback": [
      "\u001b[0;31m---------------------------------------------------------------------------\u001b[0m",
      "\u001b[0;31mTypeError\u001b[0m                                 Traceback (most recent call last)",
      "\u001b[0;32m<ipython-input-325-76cebf8431e9>\u001b[0m in \u001b[0;36m<module>\u001b[0;34m\u001b[0m\n\u001b[0;32m----> 1\u001b[0;31m \u001b[0mflaky_greet\u001b[0m\u001b[0;34m(\u001b[0m\u001b[0;34m)\u001b[0m\u001b[0;34m\u001b[0m\u001b[0;34m\u001b[0m\u001b[0m\n\u001b[0m",
      "\u001b[0;32m<ipython-input-316-e02f4a7f2039>\u001b[0m in \u001b[0;36mretry_wrapper\u001b[0;34m(*args, **kwargs)\u001b[0m\n\u001b[1;32m      5\u001b[0m     \u001b[0;32mdef\u001b[0m \u001b[0mretry_wrapper\u001b[0m\u001b[0;34m(\u001b[0m\u001b[0;34m*\u001b[0m\u001b[0margs\u001b[0m\u001b[0;34m,\u001b[0m \u001b[0;34m**\u001b[0m\u001b[0mkwargs\u001b[0m\u001b[0;34m)\u001b[0m\u001b[0;34m:\u001b[0m\u001b[0;34m\u001b[0m\u001b[0;34m\u001b[0m\u001b[0m\n\u001b[1;32m      6\u001b[0m         \u001b[0;32mfor\u001b[0m \u001b[0mt\u001b[0m \u001b[0;32min\u001b[0m \u001b[0mrange\u001b[0m\u001b[0;34m(\u001b[0m\u001b[0mtries\u001b[0m\u001b[0;34m)\u001b[0m\u001b[0;34m:\u001b[0m\u001b[0;34m\u001b[0m\u001b[0;34m\u001b[0m\u001b[0m\n\u001b[0;32m----> 7\u001b[0;31m             \u001b[0mresult\u001b[0m \u001b[0;34m=\u001b[0m \u001b[0mf\u001b[0m\u001b[0;34m(\u001b[0m\u001b[0;34m*\u001b[0m\u001b[0margs\u001b[0m\u001b[0;34m,\u001b[0m \u001b[0;34m**\u001b[0m\u001b[0mkwargs\u001b[0m\u001b[0;34m)\u001b[0m\u001b[0;34m\u001b[0m\u001b[0;34m\u001b[0m\u001b[0m\n\u001b[0m\u001b[1;32m      8\u001b[0m             \u001b[0;32mif\u001b[0m \u001b[0mresult\u001b[0m\u001b[0;34m:\u001b[0m\u001b[0;34m\u001b[0m\u001b[0;34m\u001b[0m\u001b[0m\n\u001b[1;32m      9\u001b[0m                 \u001b[0;32mreturn\u001b[0m \u001b[0mresult\u001b[0m\u001b[0;34m\u001b[0m\u001b[0;34m\u001b[0m\u001b[0m\n",
      "\u001b[0;31mTypeError\u001b[0m: flaky_greet() missing 1 required positional argument: 'name'"
     ]
    }
   ],
   "source": [
    "flaky_greet()"
   ]
  },
  {
   "cell_type": "code",
   "execution_count": 326,
   "metadata": {
    "collapsed": true,
    "jupyter": {
     "outputs_hidden": true
    }
   },
   "outputs": [
    {
     "name": "stdout",
     "output_type": "stream",
     "text": [
      "fail 0\n"
     ]
    },
    {
     "data": {
      "text/plain": [
       "'Hello Ben'"
      ]
     },
     "execution_count": 326,
     "metadata": {},
     "output_type": "execute_result"
    }
   ],
   "source": [
    "flaky_greet(\"Ben\")"
   ]
  },
  {
   "cell_type": "code",
   "execution_count": 327,
   "metadata": {
    "collapsed": true,
    "jupyter": {
     "outputs_hidden": true
    }
   },
   "outputs": [
    {
     "data": {
      "text/plain": [
       "'Hello Ben'"
      ]
     },
     "execution_count": 327,
     "metadata": {},
     "output_type": "execute_result"
    }
   ],
   "source": [
    "flaky_greet(\"Ben\", reliablility=0.95)"
   ]
  },
  {
   "cell_type": "markdown",
   "metadata": {},
   "source": [
    "## Uses for decorators"
   ]
  },
  {
   "cell_type": "markdown",
   "metadata": {},
   "source": [
    "- Change the behavior of a callable (e.g. retry, lru_cache, ddt)\n",
    "- Change the behavior of _something else_ \"during\" a callable\n",
    "- \"Registering\" callables\n",
    "    - Often returns original\n",
    "- Implementation swap\n",
    "    - Avoid re-checking invariant condition\n",
    "- ...and more!"
   ]
  },
  {
   "cell_type": "code",
   "execution_count": 333,
   "metadata": {
    "collapsed": true,
    "jupyter": {
     "outputs_hidden": true,
     "source_hidden": true
    }
   },
   "outputs": [],
   "source": [
    "from functools import lru_cache\n",
    "import shutil\n",
    "import subprocess as sub\n",
    "import sys\n",
    "def tput_lookup(*cap):\n",
    "    \"Get the value for a capname from tput, see man tput for more information\"\n",
    "    tp_cmd = [\"tput\",] + [ str(i) for i in cap ]\n",
    "    result = sub.run(tp_cmd, stdout=sub.PIPE)\n",
    "    r = \"\"  # Default to falsey\n",
    "    if result.returncode == 0:  # If success, capability exists or property is true\n",
    "        r = result.stdout.decode(\"utf-8\")\n",
    "        if r:\n",
    "            try:\n",
    "                r = int(r)  # Note: many of the int\n",
    "            except ValueError:\n",
    "                pass  # Nope, not an int\n",
    "        else:\n",
    "            r = True  # tput command success means \"cap is true\"\n",
    "    return r"
   ]
  },
  {
   "cell_type": "code",
   "execution_count": 334,
   "metadata": {
    "collapsed": true,
    "jupyter": {
     "outputs_hidden": true,
     "source_hidden": true
    }
   },
   "outputs": [],
   "source": [
    "def tput_swap(dummy):\n",
    "    \"Decorator to replace a dummy implementation with calls to tput if appropreate and available\"\n",
    "    if sys.stdout.isatty() and shutil.which(\"tput\"):\n",
    "        return lru_cache()(tput_lookup)  # Note: some attributes (e.g. \"cols\") can change, so cache may be stale\n",
    "    else:\n",
    "        return dummy\n",
    "\n",
    "\n",
    "@tput_swap\n",
    "def tput(*cap):\n",
    "    \"Dummy tput implementation, just returns empty string for now\"\n",
    "    return \"\"  # This might not make much sense for some things (eg \"cols\"), so callers may need to test and use sensible defaults"
   ]
  },
  {
   "cell_type": "code",
   "execution_count": null,
   "metadata": {},
   "outputs": [],
   "source": []
  }
 ],
 "metadata": {
  "kernelspec": {
   "display_name": "Python 3",
   "language": "python",
   "name": "python3"
  },
  "language_info": {
   "codemirror_mode": {
    "name": "ipython",
    "version": 3
   },
   "file_extension": ".py",
   "mimetype": "text/x-python",
   "name": "python",
   "nbconvert_exporter": "python",
   "pygments_lexer": "ipython3",
   "version": "3.7.4"
  }
 },
 "nbformat": 4,
 "nbformat_minor": 4
}
