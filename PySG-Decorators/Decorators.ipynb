{
 "cells": [
  {
   "cell_type": "markdown",
   "metadata": {},
   "source": [
    "# Decorators..."
   ]
  },
  {
   "cell_type": "markdown",
   "metadata": {
    "jupyter": {
     "source_hidden": true
    }
   },
   "source": [
    "Decorators are mainly used to either modify a callable or do something with it when and where it's defined, they look like this:\n",
    "```python\n",
    "@some_decorator\n",
    "def my_func():\n",
    "    ...\n",
    "```"
   ]
  },
  {
   "cell_type": "markdown",
   "metadata": {
    "jupyter": {
     "source_hidden": true
    }
   },
   "source": [
    "Understanding how decorators work _really_ helps me understand how, why, and when to use them, and enables me to write my own"
   ]
  },
  {
   "cell_type": "markdown",
   "metadata": {},
   "source": [
    "# ...How do they work??"
   ]
  },
  {
   "cell_type": "markdown",
   "metadata": {
    "jupyter": {
     "source_hidden": true
    }
   },
   "source": [
    "#### Spoiler: They're **not** magic"
   ]
  },
  {
   "cell_type": "markdown",
   "metadata": {
    "jupyter": {
     "source_hidden": true
    }
   },
   "source": [
    "#### Well, maybe just a little bit..."
   ]
  },
  {
   "cell_type": "markdown",
   "metadata": {
    "jupyter": {
     "source_hidden": true
    }
   },
   "source": [
    "#### Nope, just some syntactic sugar, not really magic."
   ]
  },
  {
   "cell_type": "markdown",
   "metadata": {
    "jupyter": {
     "source_hidden": true
    }
   },
   "source": [
    "**Syntactic sugar**: special language features to make an already available pattern easier to write and/or clearer to read for humans"
   ]
  },
  {
   "cell_type": "markdown",
   "metadata": {
    "jupyter": {
     "source_hidden": true
    }
   },
   "source": [
    "#### They are _**VERY**_ abstract, though..."
   ]
  },
  {
   "cell_type": "markdown",
   "metadata": {},
   "source": [
    "## What are \"callables\"?  Why make up words?"
   ]
  },
  {
   "cell_type": "markdown",
   "metadata": {
    "jupyter": {
     "source_hidden": true
    }
   },
   "source": [
    "- \"A callable is anything that can be called\" -- [top StackOverflow answer][1]; true, but not very helpful\n",
    "- Why \"callable\"?\n",
    "    - Many distinct kinds; the term \"function\" has baggage\n",
    "- _But_ for this talk I'll just be using functions\n",
    "[1]: https://stackoverflow.com/questions/111234/what-is-a-callable-in-python#111255"
   ]
  },
  {
   "cell_type": "markdown",
   "metadata": {},
   "source": [
    "### \"Snippets of code\""
   ]
  },
  {
   "cell_type": "markdown",
   "metadata": {
    "jupyter": {
     "source_hidden": true
    }
   },
   "source": [
    "- Easy to take for granted, but very powerful:\n",
    "    - Can operate on data - take parameters, return results\n",
    "    - Callables can call other callables"
   ]
  },
  {
   "cell_type": "markdown",
   "metadata": {},
   "source": [
    "### Code as data"
   ]
  },
  {
   "cell_type": "markdown",
   "metadata": {
    "jupyter": {
     "source_hidden": true
    }
   },
   "source": [
    "- callbacks, helpers (e.g. `sort`'s `key=`)\n",
    "- \"inner functions\""
   ]
  },
  {
   "cell_type": "markdown",
   "metadata": {},
   "source": [
    "### Callables can take callables..."
   ]
  },
  {
   "cell_type": "code",
   "execution_count": 1,
   "metadata": {
    "collapsed": true,
    "jupyter": {
     "outputs_hidden": true
    }
   },
   "outputs": [
    {
     "name": "stdout",
     "output_type": "stream",
     "text": [
      "Hello world\n"
     ]
    }
   ],
   "source": [
    "def hello(printer):\n",
    "    printer(\"Hello world\")\n",
    "\n",
    "hello(print)"
   ]
  },
  {
   "cell_type": "code",
   "execution_count": 2,
   "metadata": {
    "collapsed": true,
    "jupyter": {
     "outputs_hidden": true
    }
   },
   "outputs": [
    {
     "name": "stdout",
     "output_type": "stream",
     "text": [
      "Hello world!\n"
     ]
    }
   ],
   "source": [
    "def exclamation(s):\n",
    "    print(f\"{s}!\")\n",
    "\n",
    "hello(exclamation)"
   ]
  },
  {
   "cell_type": "markdown",
   "metadata": {},
   "source": [
    "## ...and return callables!"
   ]
  },
  {
   "cell_type": "code",
   "execution_count": 3,
   "metadata": {
    "collapsed": true,
    "jupyter": {
     "outputs_hidden": true
    }
   },
   "outputs": [
    {
     "name": "stdout",
     "output_type": "stream",
     "text": [
      "Hello Python Study Group\n",
      "Hello Python Study Group!\n"
     ]
    }
   ],
   "source": [
    "def greeter(printer):\n",
    "    def greet(name):\n",
    "        # Inner function has - and KEEPS - the context in \n",
    "        # which is was created (\"closes over\", aka \"closure\")\n",
    "        printer(f\"Hello {name}\")\n",
    "    return greet\n",
    "\n",
    "hi = greeter(print)\n",
    "hi_bang = greeter(exclamation)\n",
    "\n",
    "hi(\"Python Study Group\")\n",
    "hi_bang(\"Python Study Group\")"
   ]
  },
  {
   "cell_type": "markdown",
   "metadata": {},
   "source": [
    "## Let's try this again"
   ]
  },
  {
   "cell_type": "code",
   "execution_count": 10,
   "metadata": {
    "collapsed": true,
    "jupyter": {
     "outputs_hidden": true
    }
   },
   "outputs": [
    {
     "data": {
      "text/plain": [
       "'Okay'"
      ]
     },
     "execution_count": 10,
     "metadata": {},
     "output_type": "execute_result"
    }
   ],
   "source": [
    "from random import choice, random\n",
    "def flaky():\n",
    "    return choice([\"Okay\", None])\n",
    "    \n",
    "flaky()"
   ]
  },
  {
   "cell_type": "code",
   "execution_count": 11,
   "metadata": {
    "collapsed": true,
    "jupyter": {
     "outputs_hidden": true
    }
   },
   "outputs": [
    {
     "name": "stdout",
     "output_type": "stream",
     "text": [
      "fail 0\n",
      "fail 1\n"
     ]
    },
    {
     "data": {
      "text/plain": [
       "'Okay'"
      ]
     },
     "execution_count": 11,
     "metadata": {},
     "output_type": "execute_result"
    }
   ],
   "source": [
    "def retry(fn):\n",
    "    tries = 5\n",
    "    for t in range(tries):\n",
    "        result = fn()\n",
    "        if result:\n",
    "            return result\n",
    "        print(f\"fail {t}\")\n",
    "    return result\n",
    "\n",
    "retry(flaky)"
   ]
  },
  {
   "cell_type": "code",
   "execution_count": 12,
   "metadata": {
    "collapsed": true,
    "jupyter": {
     "outputs_hidden": true
    }
   },
   "outputs": [
    {
     "name": "stdout",
     "output_type": "stream",
     "text": [
      "fail 0\n",
      "fail 1\n",
      "fail 2\n",
      "fail 3\n"
     ]
    },
    {
     "data": {
      "text/plain": [
       "'Okay'"
      ]
     },
     "execution_count": 12,
     "metadata": {},
     "output_type": "execute_result"
    }
   ],
   "source": [
    "def retried(fn):\n",
    "    tries = 5\n",
    "    def retry_wrapper():\n",
    "        for t in range(tries):\n",
    "            result = fn()\n",
    "            if result:\n",
    "                return result\n",
    "            print(f\"fail {t}\")\n",
    "        return result\n",
    "    return retry_wrapper\n",
    "\n",
    "flaky = retried(flaky)\n",
    "flaky()"
   ]
  },
  {
   "cell_type": "markdown",
   "metadata": {},
   "source": [
    "## Add a little syntactic sugar..."
   ]
  },
  {
   "cell_type": "code",
   "execution_count": 18,
   "metadata": {
    "collapsed": true,
    "jupyter": {
     "outputs_hidden": true
    }
   },
   "outputs": [
    {
     "name": "stdout",
     "output_type": "stream",
     "text": [
      "fail 0\n",
      "fail 1\n"
     ]
    },
    {
     "data": {
      "text/plain": [
       "'Okay'"
      ]
     },
     "execution_count": 18,
     "metadata": {},
     "output_type": "execute_result"
    }
   ],
   "source": [
    "@retried\n",
    "def flaky():\n",
    "    return choice([\"Okay\", None])\n",
    "\n",
    "flaky()"
   ]
  },
  {
   "cell_type": "markdown",
   "metadata": {},
   "source": [
    "## How does that work?\n",
    "\n",
    "**retried**: expression that _<u>takes</u>_ a callable and _<u>returns</u>_ a callable that _<u>replaces<u>_ the following one"
   ]
  },
  {
   "cell_type": "code",
   "execution_count": 19,
   "metadata": {
    "collapsed": true,
    "jupyter": {
     "outputs_hidden": true,
     "source_hidden": true
    }
   },
   "outputs": [
    {
     "data": {
      "text/plain": [
       "<function __main__.retried(fn)>"
      ]
     },
     "execution_count": 19,
     "metadata": {},
     "output_type": "execute_result"
    }
   ],
   "source": [
    "retried"
   ]
  },
  {
   "cell_type": "markdown",
   "metadata": {},
   "source": [
    "**@**: the sugar, automatically calls the decorator _<u>at definition time</u>_ with the following one and does the replacement, basically like we did above."
   ]
  },
  {
   "cell_type": "markdown",
   "metadata": {},
   "source": [
    "## Getting fancy\n",
    "\n",
    "Let's make a version with configurable tries, say, `retry_n`..."
   ]
  },
  {
   "cell_type": "markdown",
   "metadata": {},
   "source": [
    "...but wait, if the `@` automatically calls it with the following thing - _<u>just</u>_ the following thing - where would arguments for _<u>it</u>_ go?"
   ]
  },
  {
   "cell_type": "markdown",
   "metadata": {},
   "source": [
    "## Inception\n",
    "\n",
    "### Callables can return _<u>decorators!</u>_"
   ]
  },
  {
   "cell_type": "code",
   "execution_count": 20,
   "metadata": {
    "collapsed": true,
    "jupyter": {
     "outputs_hidden": true
    }
   },
   "outputs": [],
   "source": [
    "def retry_n(tries):\n",
    "    def retried(fn):\n",
    "        def retry_wrapper():\n",
    "            for t in range(tries):\n",
    "                result = fn()\n",
    "                if result:\n",
    "                    return result\n",
    "                print(f\"fail {t}\")\n",
    "            return result\n",
    "        return retry_wrapper\n",
    "    return retried\n",
    "\n",
    "@retry_n(2)\n",
    "def best_effort():\n",
    "    return choice([\"Okay\", None])"
   ]
  },
  {
   "cell_type": "code",
   "execution_count": 37,
   "metadata": {
    "collapsed": true,
    "jupyter": {
     "outputs_hidden": true
    }
   },
   "outputs": [
    {
     "name": "stdout",
     "output_type": "stream",
     "text": [
      "fail 0\n",
      "fail 1\n"
     ]
    }
   ],
   "source": [
    "best_effort()"
   ]
  },
  {
   "cell_type": "markdown",
   "metadata": {},
   "source": [
    "### What's going on here?\n",
    "```python\n",
    "def best_effort():\n",
    "    return choice([\"Okay\", None])\n",
    "best_effort = retry_n(2)(best_effort)\n",
    "```"
   ]
  },
  {
   "cell_type": "markdown",
   "metadata": {},
   "source": [
    "## Multiple decorators"
   ]
  },
  {
   "cell_type": "code",
   "execution_count": 38,
   "metadata": {
    "collapsed": true,
    "jupyter": {
     "outputs_hidden": true
    }
   },
   "outputs": [],
   "source": [
    "def bold(fn):\n",
    "    def stars():\n",
    "        return(f\"*{fn()}*\")\n",
    "    return stars\n",
    "\n",
    "def italic(fn):\n",
    "    def unders():\n",
    "        return(f\"_{fn()}_\")\n",
    "    return unders"
   ]
  },
  {
   "cell_type": "code",
   "execution_count": 39,
   "metadata": {
    "collapsed": true,
    "jupyter": {
     "outputs_hidden": true
    }
   },
   "outputs": [
    {
     "data": {
      "text/plain": [
       "'*_Hello_*'"
      ]
     },
     "execution_count": 39,
     "metadata": {},
     "output_type": "execute_result"
    }
   ],
   "source": [
    "@bold\n",
    "@italic\n",
    "def hi():\n",
    "    return \"Hello\"\n",
    "\n",
    "hi()\n",
    "# Will it be '_*Hello*_' or '*_Hello_*'?"
   ]
  },
  {
   "cell_type": "markdown",
   "metadata": {
    "jupyter": {
     "source_hidden": true
    }
   },
   "source": [
    "```python\n",
    "hi = bold(italic(hi))\n",
    "```"
   ]
  },
  {
   "cell_type": "code",
   "execution_count": 40,
   "metadata": {
    "collapsed": true,
    "jupyter": {
     "outputs_hidden": true
    }
   },
   "outputs": [
    {
     "data": {
      "text/plain": [
       "'_*Hello*_'"
      ]
     },
     "execution_count": 40,
     "metadata": {},
     "output_type": "execute_result"
    }
   ],
   "source": [
    "@italic\n",
    "@bold\n",
    "def hi():\n",
    "    return \"Hello\"\n",
    "\n",
    "hi()"
   ]
  },
  {
   "cell_type": "markdown",
   "metadata": {
    "jupyter": {
     "source_hidden": true
    }
   },
   "source": [
    "```python\n",
    "hi = italic(bold(hi))\n",
    "```"
   ]
  },
  {
   "cell_type": "markdown",
   "metadata": {},
   "source": [
    "## Professional touches"
   ]
  },
  {
   "cell_type": "code",
   "execution_count": 41,
   "metadata": {
    "collapsed": true,
    "jupyter": {
     "outputs_hidden": true
    }
   },
   "outputs": [],
   "source": [
    "@retried\n",
    "def flaky_greet(name, reliablility=0.5):\n",
    "    \"Greet by name with adjustable reliablility.\"\n",
    "    return f\"Hello {name}\" if random() <= reliablility else None"
   ]
  },
  {
   "cell_type": "code",
   "execution_count": 42,
   "metadata": {
    "collapsed": true,
    "jupyter": {
     "outputs_hidden": true
    }
   },
   "outputs": [
    {
     "name": "stdout",
     "output_type": "stream",
     "text": [
      "Help on function retry_wrapper in module __main__:\n",
      "\n",
      "retry_wrapper()\n",
      "\n"
     ]
    }
   ],
   "source": [
    "help(flaky_greet)"
   ]
  },
  {
   "cell_type": "code",
   "execution_count": 43,
   "metadata": {
    "collapsed": true,
    "jupyter": {
     "outputs_hidden": true
    }
   },
   "outputs": [
    {
     "ename": "TypeError",
     "evalue": "retry_wrapper() takes 0 positional arguments but 1 was given",
     "output_type": "error",
     "traceback": [
      "\u001b[0;31m---------------------------------------------------------------------------\u001b[0m",
      "\u001b[0;31mTypeError\u001b[0m                                 Traceback (most recent call last)",
      "\u001b[0;32m<ipython-input-43-0e68ff68ba59>\u001b[0m in \u001b[0;36m<module>\u001b[0;34m\u001b[0m\n\u001b[0;32m----> 1\u001b[0;31m \u001b[0mflaky_greet\u001b[0m\u001b[0;34m(\u001b[0m\u001b[0;34m\"Ben\"\u001b[0m\u001b[0;34m)\u001b[0m\u001b[0;34m\u001b[0m\u001b[0;34m\u001b[0m\u001b[0m\n\u001b[0m",
      "\u001b[0;31mTypeError\u001b[0m: retry_wrapper() takes 0 positional arguments but 1 was given"
     ]
    }
   ],
   "source": [
    "flaky_greet(\"Ben\")"
   ]
  },
  {
   "cell_type": "code",
   "execution_count": 45,
   "metadata": {
    "collapsed": true,
    "jupyter": {
     "outputs_hidden": true
    }
   },
   "outputs": [],
   "source": [
    "import functools\n",
    "def retried(f):\n",
    "    tries = 5\n",
    "    @functools.wraps(f)\n",
    "    def retry_wrapper(*args, **kwargs):\n",
    "        for t in range(tries):\n",
    "            result = f(*args, **kwargs)\n",
    "            if result:\n",
    "                return result\n",
    "            print(f\"fail {t}\")\n",
    "        return result\n",
    "    return retry_wrapper"
   ]
  },
  {
   "cell_type": "code",
   "execution_count": 46,
   "metadata": {
    "collapsed": true,
    "jupyter": {
     "outputs_hidden": true
    }
   },
   "outputs": [],
   "source": [
    "@retried\n",
    "def flaky_greet(name, reliablility=0.5):\n",
    "    \"Greet by name with adjustable reliablility.\"\n",
    "    return f\"Hello {name}\" if random() <= reliablility else None"
   ]
  },
  {
   "cell_type": "code",
   "execution_count": 47,
   "metadata": {
    "collapsed": true,
    "jupyter": {
     "outputs_hidden": true
    }
   },
   "outputs": [
    {
     "name": "stdout",
     "output_type": "stream",
     "text": [
      "Help on function flaky_greet in module __main__:\n",
      "\n",
      "flaky_greet(name, reliablility=0.5)\n",
      "    Greet by name with adjustable reliablility.\n",
      "\n"
     ]
    }
   ],
   "source": [
    "help(flaky_greet)"
   ]
  },
  {
   "cell_type": "code",
   "execution_count": 51,
   "metadata": {
    "collapsed": true,
    "jupyter": {
     "outputs_hidden": true
    }
   },
   "outputs": [
    {
     "name": "stdout",
     "output_type": "stream",
     "text": [
      "fail 0\n",
      "fail 1\n",
      "fail 2\n"
     ]
    },
    {
     "data": {
      "text/plain": [
       "'Hello Ben'"
      ]
     },
     "execution_count": 51,
     "metadata": {},
     "output_type": "execute_result"
    }
   ],
   "source": [
    "flaky_greet(\"Ben\")"
   ]
  },
  {
   "cell_type": "code",
   "execution_count": 52,
   "metadata": {
    "collapsed": true,
    "jupyter": {
     "outputs_hidden": true
    }
   },
   "outputs": [
    {
     "data": {
      "text/plain": [
       "'Hello Ben'"
      ]
     },
     "execution_count": 52,
     "metadata": {},
     "output_type": "execute_result"
    }
   ],
   "source": [
    "flaky_greet(\"Ben\", reliablility=0.95)"
   ]
  },
  {
   "cell_type": "markdown",
   "metadata": {},
   "source": [
    "## Uses for decorators"
   ]
  },
  {
   "cell_type": "markdown",
   "metadata": {},
   "source": [
    "- Change the behavior of a callable (e.g. retry, lru_cache, ddt)\n",
    "- Change the behavior of _something else_ \"during\" a callable\n",
    "- Extract boilerplate from the start and end of functions\n",
    "    - Complimentary to \"extract function\"\n",
    "- \"Registering\" callables\n",
    "    - Often returns original\n",
    "- Implementation swap\n",
    "    - Avoid re-checking invariant condition (could also use if/else around definitions)\n",
    "- ...and more!\n",
    "- There are also \"class decorators\"\n",
    "    - \"Takes a class and returns a class to replace the original\"\n",
    "    - Not the same thing as classes that vend decorators, which are very useful"
   ]
  },
  {
   "cell_type": "code",
   "execution_count": 33,
   "metadata": {
    "collapsed": true,
    "jupyter": {
     "outputs_hidden": true,
     "source_hidden": true
    }
   },
   "outputs": [],
   "source": [
    "from functools import lru_cache\n",
    "import shutil\n",
    "import subprocess as sub\n",
    "import sys\n",
    "def tput_lookup(*cap):\n",
    "    \"Get the value for a capname from tput, see man tput for more information\"\n",
    "    tp_cmd = [\"tput\",] + [ str(i) for i in cap ]\n",
    "    result = sub.run(tp_cmd, stdout=sub.PIPE)\n",
    "    r = \"\"  # Default to falsey\n",
    "    if result.returncode == 0:  # If success, capability exists or property is true\n",
    "        r = result.stdout.decode(\"utf-8\")\n",
    "        if r:\n",
    "            try:\n",
    "                r = int(r)  # Note: many of the int\n",
    "            except ValueError:\n",
    "                pass  # Nope, not an int\n",
    "        else:\n",
    "            r = True  # tput command success means \"cap is true\"\n",
    "    return r"
   ]
  },
  {
   "cell_type": "code",
   "execution_count": 34,
   "metadata": {
    "collapsed": true,
    "jupyter": {
     "outputs_hidden": true,
     "source_hidden": true
    }
   },
   "outputs": [],
   "source": [
    "def tput_swap(dummy):\n",
    "    \"Decorator to replace a dummy implementation with calls to tput if appropreate and available\"\n",
    "    if sys.stdout.isatty() and shutil.which(\"tput\"):\n",
    "        return lru_cache()(tput_lookup)  # Note: some attributes (e.g. \"cols\") can change, so cache may be stale\n",
    "    else:\n",
    "        return dummy\n",
    "\n",
    "\n",
    "@tput_swap\n",
    "def tput(*cap):\n",
    "    \"Dummy tput implementation, just returns empty string for now\"\n",
    "    return \"\"  # This might not make much sense for some things (eg \"cols\"), so callers may need to test and use sensible defaults"
   ]
  }
 ],
 "metadata": {
  "kernelspec": {
   "display_name": "Python 3",
   "language": "python",
   "name": "python3"
  },
  "language_info": {
   "codemirror_mode": {
    "name": "ipython",
    "version": 3
   },
   "file_extension": ".py",
   "mimetype": "text/x-python",
   "name": "python",
   "nbconvert_exporter": "python",
   "pygments_lexer": "ipython3",
   "version": "3.7.3"
  }
 },
 "nbformat": 4,
 "nbformat_minor": 4
}
