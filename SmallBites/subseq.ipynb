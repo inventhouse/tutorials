{
 "cells": [
  {
   "cell_type": "markdown",
   "metadata": {},
   "source": [
    "# Subsequence Shenanigans\n",
    "\n",
    "## Problem Statement\n",
    "Given lower and upper bounds and a list of values, count the number of sub-sequences which have a maximum value within those bounds, including overlapping sub-sub-sequences.  Bonus points for deriving this count in linear time (O(n)) and constant space.\n",
    "\n",
    "For example: given bounds of `[2,3]` and the list `[2,1,4,3]`, there are **3** valid sub-sequences: `[2], [2,1], [3]`\n",
    "\n",
    "(I have no idea why the count alone is useful, and not the sub-sequences themselves, but let's roll with it.)"
   ]
  },
  {
   "cell_type": "markdown",
   "metadata": {},
   "source": [
    "## Finding Valid Sequences\n",
    "Generalizing the problem a bit, items can be split into three categories:\n",
    "- **disallowed:** cannot appear in a valid run of items; value > upper bound\n",
    "- **required:** must appear for a run to be valid; lower bound <= value <= upper bound\n",
    "- **optional:** may appear in a valid run, but not itself sufficient; value < lower bound"
   ]
  },
  {
   "cell_type": "code",
   "execution_count": 1,
   "metadata": {},
   "outputs": [
    {
     "name": "stdout",
     "output_type": "stream",
     "text": [
      "[[2, 1], [3]]\n"
     ]
    }
   ],
   "source": [
    "lower_bound = 2\n",
    "upper_bound = 3\n",
    "seq = [2,1,4,3]\n",
    "\n",
    "def is_disallowed(i):\n",
    "    return i > upper_bound\n",
    "def is_required(i):\n",
    "    return lower_bound <= i <= upper_bound\n",
    "def is_optional(i):\n",
    "    return i < lower_bound\n",
    "\n",
    "def find_valid_runs(seq):\n",
    "    valid_runs = []\n",
    "    current_run = []\n",
    "    run_qualifies = False\n",
    "    for i in seq:\n",
    "        if is_disallowed(i):\n",
    "            if run_qualifies:\n",
    "                valid_runs.append(current_run)\n",
    "                current_run = []\n",
    "                run_qualifies = False\n",
    "            continue\n",
    "        run_qualifies = run_qualifies or is_required(i)\n",
    "        current_run.append(i)\n",
    "    if run_qualifies:\n",
    "        valid_runs.append(current_run)\n",
    "\n",
    "    return valid_runs\n",
    "\n",
    "print(find_valid_runs(seq))"
   ]
  },
  {
   "cell_type": "markdown",
   "metadata": {},
   "source": [
    "## Those Pesky Sub-Sequences\n",
    "At the top level, we can now find valid runs of values, but only the longest non-overlapping ones; what about `[2]`?  Or, if there are longer runs that have valid sub-sequences, how do we find them?\n",
    "\n",
    "A few observations:\n",
    "- If all items in a run are `required` then all sub-sequences must be valid (if all items are valid and sufficient, combinations must be valid and sufficient; we'll figure out `optional` items later)\n",
    "- When we add another item to a run, all previous valid sub-sequences must still apply\n",
    "- *And* all new valid sub-sequences must use that new item (it is the only new thing)\n",
    "\n",
    "Thus:"
   ]
  },
  {
   "cell_type": "code",
   "execution_count": 17,
   "metadata": {},
   "outputs": [
    {
     "name": "stdout",
     "output_type": "stream",
     "text": [
      "len(run) = 1: [[2]]  len(new_subs) = 1\n",
      "len(run) = 2: [[2, 3], [3]]  len(new_subs) = 2\n",
      "len(run) = 3: [[2, 3, 4], [3, 4], [4]]  len(new_subs) = 3\n",
      "len(run) = 4: [[2, 3, 4, 5], [3, 4, 5], [4, 5], [5]]  len(new_subs) = 4\n"
     ]
    }
   ],
   "source": [
    "# For most of this, we're going to use these bounds as I think they make example sequences easier to understand\n",
    "lower_bound = 2\n",
    "upper_bound = 8\n",
    "\n",
    "def trailing_subs(run):\n",
    "    return [ run[i:] for i in range(-len(run), 0) ]\n",
    "\n",
    "def series_of_runs(seq):\n",
    "    run = []\n",
    "    for i in seq:\n",
    "        run.append(i)  # We're just going to assume `i` is a \"required\" element for this\n",
    "        new_subs = trailing_subs(run)\n",
    "        print(f\"{len(run) = }: {new_subs}  {len(new_subs) = }\")\n",
    "\n",
    "seq = [2,3,4,5]\n",
    "series_of_runs(seq)"
   ]
  },
  {
   "cell_type": "markdown",
   "metadata": {},
   "source": [
    "Nifty!  The number of new subsequences is the same as the number of items in the run!  (*If* all items are in the `required` category)"
   ]
  },
  {
   "cell_type": "markdown",
   "metadata": {},
   "source": [
    "## OK, So What About Optional Items?\n",
    "Hmm... what happens when we start adding `optional` items?  Here's two `required` items and some optional ones:"
   ]
  },
  {
   "cell_type": "code",
   "execution_count": 14,
   "metadata": {},
   "outputs": [
    {
     "name": "stdout",
     "output_type": "stream",
     "text": [
      "len(run) = 1: [[2]]  len(new_subs) = 1\n",
      "len(run) = 2: [[2, 3], [3]]  len(new_subs) = 2\n",
      "len(run) = 3: [[2, 3, 1], [3, 1], [1]]  len(new_subs) = 3\n",
      "len(run) = 4: [[2, 3, 1, 1], [3, 1, 1], [1, 1], [1]]  len(new_subs) = 4\n",
      "len(run) = 5: [[2, 3, 1, 1, 1], [3, 1, 1, 1], [1, 1, 1], [1, 1], [1]]  len(new_subs) = 5\n"
     ]
    }
   ],
   "source": [
    "seq = [2,3,1,1,1]\n",
    "series_of_runs(seq)"
   ]
  },
  {
   "cell_type": "markdown",
   "metadata": {},
   "source": [
    "After the second item, adding `optional` ones creates some new valid sequences, but others aren't:\n",
    "\n",
    "> len(run) = 1: [[2]]  len(new_subs) = 1  \n",
    "> len(run) = 2: [[2, 3], [3]]  len(new_subs) = 2  \n",
    "> len(run) = 3: [[2, 3, 1], [3, 1], ~~[1]~~]  len(new_subs) = ~~3~~ **2**  \n",
    "> len(run) = 4: [[2, 3, 1, 1], [3, 1, 1], ~~[1, 1]~~, ~~[1]~~]  len(new_subs) = ~~4~~ **2**  \n",
    "> len(run) = 5: [[2, 3, 1, 1, 1], [3, 1, 1, 1], ~~[1, 1, 1]~~, ~~[1, 1]~~, ~~[1]~~]  len(new_subs) = ~~5~~ **2**  \n",
    "\n",
    "The number of new valid sequences stays the same, instead of increasing with length, interesting."
   ]
  },
  {
   "cell_type": "markdown",
   "metadata": {},
   "source": [
    "## But There's a Twist!\n",
    "What happens if we add another `required` item to the run?"
   ]
  },
  {
   "cell_type": "code",
   "execution_count": 15,
   "metadata": {},
   "outputs": [
    {
     "name": "stdout",
     "output_type": "stream",
     "text": [
      "len(run) = 1: [[2]]  len(new_subs) = 1\n",
      "len(run) = 2: [[2, 3], [3]]  len(new_subs) = 2\n",
      "len(run) = 3: [[2, 3, 1], [3, 1], [1]]  len(new_subs) = 3\n",
      "len(run) = 4: [[2, 3, 1, 1], [3, 1, 1], [1, 1], [1]]  len(new_subs) = 4\n",
      "len(run) = 5: [[2, 3, 1, 1, 1], [3, 1, 1, 1], [1, 1, 1], [1, 1], [1]]  len(new_subs) = 5\n",
      "len(run) = 6: [[2, 3, 1, 1, 1, 4], [3, 1, 1, 1, 4], [1, 1, 1, 4], [1, 1, 4], [1, 4], [4]]  len(new_subs) = 6\n"
     ]
    }
   ],
   "source": [
    "seq = [2,3,1,1,1,4]\n",
    "series_of_runs(seq)"
   ]
  },
  {
   "cell_type": "markdown",
   "metadata": {},
   "source": [
    "> ...  \n",
    "> len(run) = 5: [[2, 3, 1, 1, 1], [3, 1, 1, 1], ~~[1, 1, 1]~~, ~~[1, 1]~~, ~~[1]~~]  len(new_subs) = ~~5~~ **2**  \n",
    "> len(run) = **6**: [[2, 3, 1, 1, 1, 4], [3, 1, 1, 1, 4], [1, 1, 1, 4], [1, 1, 4], [1, 4], [4]]  len(new_subs) = **6**\n",
    "\n",
    "The number of new valid sequences jumps back up to the number of items in the run!"
   ]
  },
  {
   "cell_type": "markdown",
   "metadata": {},
   "source": [
    "## Putting It All Together\n",
    "- Each time we add a `required` item to a valid run, it adds a number of new valid sub-sequences equal to the length of the run\n",
    "- Each time we add an `optional` item to a valid run, it adds a number of new valid sub-sequences equal to the length of the run *before optional items were added*\n",
    "- If we add a `required` item, previous `optional` items work like the rest of the run\n",
    "\n",
    "Let's code that up:"
   ]
  },
  {
   "cell_type": "code",
   "execution_count": 5,
   "metadata": {},
   "outputs": [
    {
     "name": "stdout",
     "output_type": "stream",
     "text": [
      "current_run = [2], optionals = []:\n",
      "  new_subs = [[2]]\n",
      "  len(new_subs) = 1\n",
      "\n",
      "current_run = [2, 3], optionals = []:\n",
      "  new_subs = [[2, 3], [3]]\n",
      "  len(new_subs) = 2\n",
      "\n",
      "current_run = [2, 3], optionals = [1]:\n",
      "  new_subs = [[2, 3, 1], [3, 1]]\n",
      "  len(new_subs) = 2\n",
      "\n",
      "current_run = [2, 3], optionals = [1, 1]:\n",
      "  new_subs = [[2, 3, 1, 1], [3, 1, 1]]\n",
      "  len(new_subs) = 2\n",
      "\n",
      "current_run = [2, 3], optionals = [1, 1, 1]:\n",
      "  new_subs = [[2, 3, 1, 1, 1], [3, 1, 1, 1]]\n",
      "  len(new_subs) = 2\n",
      "\n",
      "current_run = [2, 3, 1, 1, 1, 4], optionals = []:\n",
      "  new_subs = [[2, 3, 1, 1, 1, 4], [3, 1, 1, 1, 4], [1, 1, 1, 4], [1, 1, 4], [1, 4], [4]]\n",
      "  len(new_subs) = 6\n",
      "\n",
      "find_all_valid_subs(seq) = 15\n"
     ]
    }
   ],
   "source": [
    "def trailing_subs(run, optionals):\n",
    "    return [ run[i:] + optionals for i in range(-len(run), 0) ]\n",
    "\n",
    "def find_all_valid_subs(seq):\n",
    "    valid_subs = []\n",
    "    current_run = []\n",
    "    optionals = []\n",
    "    total = 0\n",
    "    run_count = 0\n",
    "    optionals_count = 0\n",
    "    for i in seq:\n",
    "        if is_disallowed(i):\n",
    "            current_run = []\n",
    "            optionals = []\n",
    "            run_count = 0\n",
    "            optionals_count = 0\n",
    "            print(f\"Disallowed: {i}\")\n",
    "            continue\n",
    "\n",
    "        if is_required(i):\n",
    "            # Optionals become part of the run\n",
    "            current_run.extend(optionals)\n",
    "            optionals = []\n",
    "            run_count += optionals_count\n",
    "            optionals_count = 0\n",
    "\n",
    "            current_run.append(i)\n",
    "            run_count += 1\n",
    "\n",
    "        else: # is_optional(i)\n",
    "            optionals.append(i)\n",
    "            optionals_count += 1\n",
    "\n",
    "        total += run_count\n",
    "        new_subs = trailing_subs(current_run, optionals)\n",
    "        print(f\"{current_run = }, {optionals = }:\\n  {new_subs = }\\n  {len(new_subs) = }\\n\")\n",
    "        valid_subs.extend(new_subs)\n",
    "\n",
    "    assert total == len(valid_subs)  # Raise if we mis-counted\n",
    "    return total\n",
    "\n",
    "seq = [2,3,1,1,1,4]\n",
    "print(f\"{find_all_valid_subs(seq) = }\")"
   ]
  },
  {
   "cell_type": "code",
   "execution_count": 6,
   "metadata": {},
   "outputs": [
    {
     "name": "stdout",
     "output_type": "stream",
     "text": [
      "Disallowed: 9\n",
      "current_run = [2], optionals = []:\n",
      "  new_subs = [[2]]\n",
      "  len(new_subs) = 1\n",
      "\n",
      "current_run = [2, 3], optionals = []:\n",
      "  new_subs = [[2, 3], [3]]\n",
      "  len(new_subs) = 2\n",
      "\n",
      "current_run = [2, 3], optionals = [1]:\n",
      "  new_subs = [[2, 3, 1], [3, 1]]\n",
      "  len(new_subs) = 2\n",
      "\n",
      "Disallowed: 9\n",
      "current_run = [], optionals = [1]:\n",
      "  new_subs = []\n",
      "  len(new_subs) = 0\n",
      "\n",
      "current_run = [], optionals = [1, 1]:\n",
      "  new_subs = []\n",
      "  len(new_subs) = 0\n",
      "\n",
      "current_run = [1, 1, 4], optionals = []:\n",
      "  new_subs = [[1, 1, 4], [1, 4], [4]]\n",
      "  len(new_subs) = 3\n",
      "\n",
      "Disallowed: 9\n",
      "current_run = [], optionals = [1]:\n",
      "  new_subs = []\n",
      "  len(new_subs) = 0\n",
      "\n",
      "find_all_valid_subs(seq)=8\n"
     ]
    }
   ],
   "source": [
    "# Cool!  Let's get a little funkier:\n",
    "seq = [9,2,3,1,9,1,1,4,9,1]\n",
    "print(f\"{find_all_valid_subs(seq)=}\")"
   ]
  },
  {
   "cell_type": "markdown",
   "metadata": {},
   "source": [
    "## Now How About O(n)\n",
    "If all we need is the count, we can drop all the run and sub-sequence building:"
   ]
  },
  {
   "cell_type": "code",
   "execution_count": 7,
   "metadata": {},
   "outputs": [],
   "source": [
    "def count_all_valid_subs(seq):\n",
    "    total = 0\n",
    "    run_count = 0\n",
    "    optionals_count = 0\n",
    "    for i in seq:\n",
    "        if is_disallowed(i):\n",
    "            run_count = 0\n",
    "            optionals_count = 0\n",
    "            continue\n",
    "\n",
    "        if is_required(i):\n",
    "            run_count += optionals_count + 1\n",
    "            optionals_count = 0\n",
    "\n",
    "        else: # is_optional(i)\n",
    "            optionals_count += 1\n",
    "\n",
    "        total += run_count\n",
    "\n",
    "    return total"
   ]
  },
  {
   "cell_type": "code",
   "execution_count": 8,
   "metadata": {},
   "outputs": [
    {
     "name": "stdout",
     "output_type": "stream",
     "text": [
      "count_all_valid_subs(seq) = 15\n"
     ]
    }
   ],
   "source": [
    "seq = [2,3,1,1,1,4]\n",
    "print(f\"{count_all_valid_subs(seq) = }\")"
   ]
  },
  {
   "cell_type": "code",
   "execution_count": 9,
   "metadata": {},
   "outputs": [
    {
     "name": "stdout",
     "output_type": "stream",
     "text": [
      "count_all_valid_subs(seq) = 8\n"
     ]
    }
   ],
   "source": [
    "seq = [9,2,3,1,9,1,1,4,9,1]\n",
    "print(f\"{count_all_valid_subs(seq) = }\")"
   ]
  }
 ],
 "metadata": {
  "kernelspec": {
   "display_name": "Python 3",
   "language": "python",
   "name": "python3"
  },
  "language_info": {
   "codemirror_mode": {
    "name": "ipython",
    "version": 3
   },
   "file_extension": ".py",
   "mimetype": "text/x-python",
   "name": "python",
   "nbconvert_exporter": "python",
   "pygments_lexer": "ipython3",
   "version": "3.11.9"
  }
 },
 "nbformat": 4,
 "nbformat_minor": 2
}
