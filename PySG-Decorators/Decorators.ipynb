{
 "cells": [
  {
   "cell_type": "markdown",
   "metadata": {},
   "source": [
    "## Callables can take callables..."
   ]
  },
  {
   "cell_type": "code",
   "execution_count": 216,
   "metadata": {},
   "outputs": [
    {
     "name": "stdout",
     "output_type": "stream",
     "text": [
      "Hello world\n",
      "Hello world!\n"
     ]
    }
   ],
   "source": [
    "def hello(printer):\n",
    "    printer(\"Hello world\")\n",
    "\n",
    "hello(print)\n",
    "\n",
    "def exclamation(s):\n",
    "    print(f\"{s}!\")\n",
    "\n",
    "hello(exclamation)"
   ]
  },
  {
   "cell_type": "markdown",
   "metadata": {},
   "source": [
    "## ...and return callables!"
   ]
  },
  {
   "cell_type": "code",
   "execution_count": 220,
   "metadata": {},
   "outputs": [
    {
     "name": "stdout",
     "output_type": "stream",
     "text": [
      "Hello Python Study Group\n",
      "Hello Python Study Group!\n"
     ]
    }
   ],
   "source": [
    "def greeter(printer):\n",
    "    def greet(name):\n",
    "        # Inner function has - and KEEPS - the context in which is was \n",
    "        # created (\"closes over\", aka \"closure\")\n",
    "        printer(f\"Hello {name}\")\n",
    "    return greet\n",
    "\n",
    "hi = greeter(print)\n",
    "hi_bang = greeter(exclamation)\n",
    "\n",
    "hi(\"Python Study Group\")\n",
    "hi_bang(\"Python Study Group\")"
   ]
  },
  {
   "cell_type": "markdown",
   "metadata": {},
   "source": [
    "## Let's try this again"
   ]
  },
  {
   "cell_type": "code",
   "execution_count": 233,
   "metadata": {},
   "outputs": [
    {
     "data": {
      "text/plain": [
       "'Okay'"
      ]
     },
     "execution_count": 233,
     "metadata": {},
     "output_type": "execute_result"
    }
   ],
   "source": [
    "from random import choice\n",
    "def flaky():\n",
    "    return choice([\"Okay\", None])\n",
    "    \n",
    "flaky()"
   ]
  },
  {
   "cell_type": "code",
   "execution_count": 235,
   "metadata": {},
   "outputs": [
    {
     "name": "stdout",
     "output_type": "stream",
     "text": [
      "fail 0\n",
      "fail 1\n",
      "fail 2\n",
      "fail 3\n"
     ]
    },
    {
     "data": {
      "text/plain": [
       "'Okay'"
      ]
     },
     "execution_count": 235,
     "metadata": {},
     "output_type": "execute_result"
    }
   ],
   "source": [
    "def retry(f):\n",
    "    tries = 5\n",
    "    for t in range(tries):\n",
    "        result = f()\n",
    "        if result:\n",
    "            return result\n",
    "        print(f\"fail {t}\")\n",
    "    return result\n",
    "retry(flaky)"
   ]
  },
  {
   "cell_type": "code",
   "execution_count": 236,
   "metadata": {},
   "outputs": [
    {
     "name": "stdout",
     "output_type": "stream",
     "text": [
      "fail 0\n"
     ]
    },
    {
     "data": {
      "text/plain": [
       "'Okay'"
      ]
     },
     "execution_count": 236,
     "metadata": {},
     "output_type": "execute_result"
    }
   ],
   "source": [
    "def retried(f):\n",
    "    tries = 5\n",
    "    def retry():\n",
    "        for t in range(tries):\n",
    "            result = f()\n",
    "            if result:\n",
    "                return result\n",
    "            print(f\"fail {t}\")\n",
    "        return result\n",
    "    return retry\n",
    "\n",
    "less_flaky = retried(flaky)\n",
    "less_flaky()"
   ]
  },
  {
   "cell_type": "markdown",
   "metadata": {},
   "source": [
    "## Add a little syntactic sugar..."
   ]
  },
  {
   "cell_type": "code",
   "execution_count": 167,
   "metadata": {},
   "outputs": [
    {
     "name": "stdout",
     "output_type": "stream",
     "text": [
      "fail 0\n",
      "fail 1\n",
      "fail 2\n",
      "fail 3\n"
     ]
    },
    {
     "data": {
      "text/plain": [
       "'Okay'"
      ]
     },
     "execution_count": 167,
     "metadata": {},
     "output_type": "execute_result"
    }
   ],
   "source": [
    "@retried\n",
    "def flaky():\n",
    "    return choice([\"Okay\", None])\n",
    "\n",
    "flaky()"
   ]
  },
  {
   "cell_type": "markdown",
   "metadata": {},
   "source": [
    "## How does that work?\n",
    "\n",
    "**retried**: expression that _<u>takes</u>_ a callable and _<u>returns</u>_ a callable that _<u>replaces<u>_ the following one"
   ]
  },
  {
   "cell_type": "code",
   "execution_count": 179,
   "metadata": {
    "collapsed": true,
    "jupyter": {
     "outputs_hidden": true,
     "source_hidden": true
    }
   },
   "outputs": [
    {
     "data": {
      "text/plain": [
       "<function __main__.retried(f)>"
      ]
     },
     "execution_count": 179,
     "metadata": {},
     "output_type": "execute_result"
    }
   ],
   "source": [
    "retried"
   ]
  },
  {
   "cell_type": "markdown",
   "metadata": {},
   "source": [
    "**@**: the sugar, automatically calls the decorator _<u>at declaration time<u>_ with the following one and does the replacement, basically like this:\n",
    "\n",
    "```python\n",
    "flaky = retried(flaky)\n",
    "```"
   ]
  },
  {
   "cell_type": "markdown",
   "metadata": {},
   "source": [
    "## Getting fancy\n",
    "\n",
    "Let's make a version with configurable tries..."
   ]
  },
  {
   "cell_type": "markdown",
   "metadata": {},
   "source": [
    "...but wait, if the `@` automatically calls it with the following thing - _<u>just</u>_ the following thing - where would arguments for _<u>it</u>_ go?"
   ]
  },
  {
   "cell_type": "markdown",
   "metadata": {},
   "source": [
    "## Inception\n",
    "\n",
    "Callables can return _<u>generators!</u>_"
   ]
  },
  {
   "cell_type": "code",
   "execution_count": null,
   "metadata": {},
   "outputs": [],
   "source": []
  }
 ],
 "metadata": {
  "kernelspec": {
   "display_name": "Python 3",
   "language": "python",
   "name": "python3"
  },
  "language_info": {
   "codemirror_mode": {
    "name": "ipython",
    "version": 3
   },
   "file_extension": ".py",
   "mimetype": "text/x-python",
   "name": "python",
   "nbconvert_exporter": "python",
   "pygments_lexer": "ipython3",
   "version": "3.7.4"
  }
 },
 "nbformat": 4,
 "nbformat_minor": 4
}
